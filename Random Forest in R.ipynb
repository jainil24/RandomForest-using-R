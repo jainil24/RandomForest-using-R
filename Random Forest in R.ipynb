{
 "cells": [
  {
   "cell_type": "code",
   "execution_count": 3,
   "metadata": {},
   "outputs": [
    {
     "data": {
      "text/html": [
       "<table>\n",
       "<caption>A data.frame: 6 × 22</caption>\n",
       "<thead>\n",
       "\t<tr><th></th><th scope=col>LB</th><th scope=col>AC</th><th scope=col>FM</th><th scope=col>UC</th><th scope=col>DL</th><th scope=col>DS</th><th scope=col>DP</th><th scope=col>ASTV</th><th scope=col>MSTV</th><th scope=col>ALTV</th><th scope=col>...</th><th scope=col>Min</th><th scope=col>Max</th><th scope=col>Nmax</th><th scope=col>Nzeros</th><th scope=col>Mode</th><th scope=col>Mean</th><th scope=col>Median</th><th scope=col>Variance</th><th scope=col>Tendency</th><th scope=col>NSP</th></tr>\n",
       "\t<tr><th></th><th scope=col>&lt;int&gt;</th><th scope=col>&lt;dbl&gt;</th><th scope=col>&lt;dbl&gt;</th><th scope=col>&lt;dbl&gt;</th><th scope=col>&lt;dbl&gt;</th><th scope=col>&lt;dbl&gt;</th><th scope=col>&lt;dbl&gt;</th><th scope=col>&lt;int&gt;</th><th scope=col>&lt;dbl&gt;</th><th scope=col>&lt;int&gt;</th><th scope=col>...</th><th scope=col>&lt;int&gt;</th><th scope=col>&lt;int&gt;</th><th scope=col>&lt;int&gt;</th><th scope=col>&lt;int&gt;</th><th scope=col>&lt;int&gt;</th><th scope=col>&lt;int&gt;</th><th scope=col>&lt;int&gt;</th><th scope=col>&lt;int&gt;</th><th scope=col>&lt;int&gt;</th><th scope=col>&lt;int&gt;</th></tr>\n",
       "</thead>\n",
       "<tbody>\n",
       "\t<tr><th scope=row>1</th><td>120</td><td>0.000000000</td><td>0</td><td>0.000000000</td><td>0.000000000</td><td>0</td><td>0.000000000</td><td>73</td><td>0.5</td><td>43</td><td>...</td><td>62</td><td>126</td><td> 2</td><td>0</td><td>120</td><td>137</td><td>121</td><td> 73</td><td>1</td><td>2</td></tr>\n",
       "\t<tr><th scope=row>2</th><td>132</td><td>0.006379585</td><td>0</td><td>0.006379585</td><td>0.003189793</td><td>0</td><td>0.000000000</td><td>17</td><td>2.1</td><td> 0</td><td>...</td><td>68</td><td>198</td><td> 6</td><td>1</td><td>141</td><td>136</td><td>140</td><td> 12</td><td>0</td><td>1</td></tr>\n",
       "\t<tr><th scope=row>3</th><td>133</td><td>0.003322259</td><td>0</td><td>0.008305648</td><td>0.003322259</td><td>0</td><td>0.000000000</td><td>16</td><td>2.1</td><td> 0</td><td>...</td><td>68</td><td>198</td><td> 5</td><td>1</td><td>141</td><td>135</td><td>138</td><td> 13</td><td>0</td><td>1</td></tr>\n",
       "\t<tr><th scope=row>4</th><td>134</td><td>0.002560819</td><td>0</td><td>0.007682458</td><td>0.002560819</td><td>0</td><td>0.000000000</td><td>16</td><td>2.4</td><td> 0</td><td>...</td><td>53</td><td>170</td><td>11</td><td>0</td><td>137</td><td>134</td><td>137</td><td> 13</td><td>1</td><td>1</td></tr>\n",
       "\t<tr><th scope=row>5</th><td>132</td><td>0.006514658</td><td>0</td><td>0.008143322</td><td>0.000000000</td><td>0</td><td>0.000000000</td><td>16</td><td>2.4</td><td> 0</td><td>...</td><td>53</td><td>170</td><td> 9</td><td>0</td><td>137</td><td>136</td><td>138</td><td> 11</td><td>1</td><td>1</td></tr>\n",
       "\t<tr><th scope=row>6</th><td>134</td><td>0.001049318</td><td>0</td><td>0.010493179</td><td>0.009443861</td><td>0</td><td>0.002098636</td><td>26</td><td>5.9</td><td> 0</td><td>...</td><td>50</td><td>200</td><td> 5</td><td>3</td><td> 76</td><td>107</td><td>107</td><td>170</td><td>0</td><td>3</td></tr>\n",
       "</tbody>\n",
       "</table>\n"
      ],
      "text/latex": [
       "A data.frame: 6 × 22\n",
       "\\begin{tabular}{r|lllllllllllllllllllll}\n",
       "  & LB & AC & FM & UC & DL & DS & DP & ASTV & MSTV & ALTV & ... & Min & Max & Nmax & Nzeros & Mode & Mean & Median & Variance & Tendency & NSP\\\\\n",
       "  & <int> & <dbl> & <dbl> & <dbl> & <dbl> & <dbl> & <dbl> & <int> & <dbl> & <int> & ... & <int> & <int> & <int> & <int> & <int> & <int> & <int> & <int> & <int> & <int>\\\\\n",
       "\\hline\n",
       "\t1 & 120 & 0.000000000 & 0 & 0.000000000 & 0.000000000 & 0 & 0.000000000 & 73 & 0.5 & 43 & ... & 62 & 126 &  2 & 0 & 120 & 137 & 121 &  73 & 1 & 2\\\\\n",
       "\t2 & 132 & 0.006379585 & 0 & 0.006379585 & 0.003189793 & 0 & 0.000000000 & 17 & 2.1 &  0 & ... & 68 & 198 &  6 & 1 & 141 & 136 & 140 &  12 & 0 & 1\\\\\n",
       "\t3 & 133 & 0.003322259 & 0 & 0.008305648 & 0.003322259 & 0 & 0.000000000 & 16 & 2.1 &  0 & ... & 68 & 198 &  5 & 1 & 141 & 135 & 138 &  13 & 0 & 1\\\\\n",
       "\t4 & 134 & 0.002560819 & 0 & 0.007682458 & 0.002560819 & 0 & 0.000000000 & 16 & 2.4 &  0 & ... & 53 & 170 & 11 & 0 & 137 & 134 & 137 &  13 & 1 & 1\\\\\n",
       "\t5 & 132 & 0.006514658 & 0 & 0.008143322 & 0.000000000 & 0 & 0.000000000 & 16 & 2.4 &  0 & ... & 53 & 170 &  9 & 0 & 137 & 136 & 138 &  11 & 1 & 1\\\\\n",
       "\t6 & 134 & 0.001049318 & 0 & 0.010493179 & 0.009443861 & 0 & 0.002098636 & 26 & 5.9 &  0 & ... & 50 & 200 &  5 & 3 &  76 & 107 & 107 & 170 & 0 & 3\\\\\n",
       "\\end{tabular}\n"
      ],
      "text/markdown": [
       "\n",
       "A data.frame: 6 × 22\n",
       "\n",
       "| <!--/--> | LB &lt;int&gt; | AC &lt;dbl&gt; | FM &lt;dbl&gt; | UC &lt;dbl&gt; | DL &lt;dbl&gt; | DS &lt;dbl&gt; | DP &lt;dbl&gt; | ASTV &lt;int&gt; | MSTV &lt;dbl&gt; | ALTV &lt;int&gt; | ... ... | Min &lt;int&gt; | Max &lt;int&gt; | Nmax &lt;int&gt; | Nzeros &lt;int&gt; | Mode &lt;int&gt; | Mean &lt;int&gt; | Median &lt;int&gt; | Variance &lt;int&gt; | Tendency &lt;int&gt; | NSP &lt;int&gt; |\n",
       "|---|---|---|---|---|---|---|---|---|---|---|---|---|---|---|---|---|---|---|---|---|---|\n",
       "| 1 | 120 | 0.000000000 | 0 | 0.000000000 | 0.000000000 | 0 | 0.000000000 | 73 | 0.5 | 43 | ... | 62 | 126 |  2 | 0 | 120 | 137 | 121 |  73 | 1 | 2 |\n",
       "| 2 | 132 | 0.006379585 | 0 | 0.006379585 | 0.003189793 | 0 | 0.000000000 | 17 | 2.1 |  0 | ... | 68 | 198 |  6 | 1 | 141 | 136 | 140 |  12 | 0 | 1 |\n",
       "| 3 | 133 | 0.003322259 | 0 | 0.008305648 | 0.003322259 | 0 | 0.000000000 | 16 | 2.1 |  0 | ... | 68 | 198 |  5 | 1 | 141 | 135 | 138 |  13 | 0 | 1 |\n",
       "| 4 | 134 | 0.002560819 | 0 | 0.007682458 | 0.002560819 | 0 | 0.000000000 | 16 | 2.4 |  0 | ... | 53 | 170 | 11 | 0 | 137 | 134 | 137 |  13 | 1 | 1 |\n",
       "| 5 | 132 | 0.006514658 | 0 | 0.008143322 | 0.000000000 | 0 | 0.000000000 | 16 | 2.4 |  0 | ... | 53 | 170 |  9 | 0 | 137 | 136 | 138 |  11 | 1 | 1 |\n",
       "| 6 | 134 | 0.001049318 | 0 | 0.010493179 | 0.009443861 | 0 | 0.002098636 | 26 | 5.9 |  0 | ... | 50 | 200 |  5 | 3 |  76 | 107 | 107 | 170 | 0 | 3 |\n",
       "\n"
      ],
      "text/plain": [
       "  LB  AC          FM UC          DL          DS DP          ASTV MSTV ALTV ...\n",
       "1 120 0.000000000 0  0.000000000 0.000000000 0  0.000000000 73   0.5  43   ...\n",
       "2 132 0.006379585 0  0.006379585 0.003189793 0  0.000000000 17   2.1   0   ...\n",
       "3 133 0.003322259 0  0.008305648 0.003322259 0  0.000000000 16   2.1   0   ...\n",
       "4 134 0.002560819 0  0.007682458 0.002560819 0  0.000000000 16   2.4   0   ...\n",
       "5 132 0.006514658 0  0.008143322 0.000000000 0  0.000000000 16   2.4   0   ...\n",
       "6 134 0.001049318 0  0.010493179 0.009443861 0  0.002098636 26   5.9   0   ...\n",
       "  Min Max Nmax Nzeros Mode Mean Median Variance Tendency NSP\n",
       "1 62  126  2   0      120  137  121     73      1        2  \n",
       "2 68  198  6   1      141  136  140     12      0        1  \n",
       "3 68  198  5   1      141  135  138     13      0        1  \n",
       "4 53  170 11   0      137  134  137     13      1        1  \n",
       "5 53  170  9   0      137  136  138     11      1        1  \n",
       "6 50  200  5   3       76  107  107    170      0        3  "
      ]
     },
     "metadata": {},
     "output_type": "display_data"
    }
   ],
   "source": [
    "data <- read.csv('CTG.csv' , header = TRUE )\n",
    "head(data)"
   ]
  },
  {
   "cell_type": "code",
   "execution_count": 4,
   "metadata": {},
   "outputs": [
    {
     "name": "stdout",
     "output_type": "stream",
     "text": [
      "'data.frame':\t2126 obs. of  22 variables:\n",
      " $ LB      : int  120 132 133 134 132 134 134 122 122 122 ...\n",
      " $ AC      : num  0 0.00638 0.00332 0.00256 0.00651 ...\n",
      " $ FM      : num  0 0 0 0 0 0 0 0 0 0 ...\n",
      " $ UC      : num  0 0.00638 0.00831 0.00768 0.00814 ...\n",
      " $ DL      : num  0 0.00319 0.00332 0.00256 0 ...\n",
      " $ DS      : num  0 0 0 0 0 0 0 0 0 0 ...\n",
      " $ DP      : num  0 0 0 0 0 ...\n",
      " $ ASTV    : int  73 17 16 16 16 26 29 83 84 86 ...\n",
      " $ MSTV    : num  0.5 2.1 2.1 2.4 2.4 5.9 6.3 0.5 0.5 0.3 ...\n",
      " $ ALTV    : int  43 0 0 0 0 0 0 6 5 6 ...\n",
      " $ MLTV    : num  2.4 10.4 13.4 23 19.9 0 0 15.6 13.6 10.6 ...\n",
      " $ Width   : int  64 130 130 117 117 150 150 68 68 68 ...\n",
      " $ Min     : int  62 68 68 53 53 50 50 62 62 62 ...\n",
      " $ Max     : int  126 198 198 170 170 200 200 130 130 130 ...\n",
      " $ Nmax    : int  2 6 5 11 9 5 6 0 0 1 ...\n",
      " $ Nzeros  : int  0 1 1 0 0 3 3 0 0 0 ...\n",
      " $ Mode    : int  120 141 141 137 137 76 71 122 122 122 ...\n",
      " $ Mean    : int  137 136 135 134 136 107 107 122 122 122 ...\n",
      " $ Median  : int  121 140 138 137 138 107 106 123 123 123 ...\n",
      " $ Variance: int  73 12 13 13 11 170 215 3 3 1 ...\n",
      " $ Tendency: int  1 0 0 1 1 0 0 1 1 1 ...\n",
      " $ NSP     : int  2 1 1 1 1 3 3 3 3 3 ...\n"
     ]
    }
   ],
   "source": [
    "str(data)"
   ]
  },
  {
   "cell_type": "code",
   "execution_count": 6,
   "metadata": {},
   "outputs": [],
   "source": [
    "data$NSP <- factor(data$NSP)"
   ]
  },
  {
   "cell_type": "code",
   "execution_count": 8,
   "metadata": {},
   "outputs": [
    {
     "data": {
      "text/plain": [
       "\n",
       "   1    2    3 \n",
       "1655  295  176 "
      ]
     },
     "metadata": {},
     "output_type": "display_data"
    }
   ],
   "source": [
    "table(data$NSP)"
   ]
  },
  {
   "cell_type": "code",
   "execution_count": 10,
   "metadata": {},
   "outputs": [],
   "source": [
    "set.seed(123)\n",
    "\n",
    "ind = sample(2 , nrow(data) , prob = c(0.7,0.3) , replace = TRUE)"
   ]
  },
  {
   "cell_type": "code",
   "execution_count": 11,
   "metadata": {},
   "outputs": [],
   "source": [
    "tdata <- data[ind == 1 , ]\n",
    "vdata <- data[ind == 2 , ]"
   ]
  },
  {
   "cell_type": "code",
   "execution_count": 16,
   "metadata": {},
   "outputs": [
    {
     "name": "stdout",
     "output_type": "stream",
     "text": [
      "[1] 1495   22\n",
      "[1] 631  22\n"
     ]
    }
   ],
   "source": [
    "print(dim(tdata))\n",
    "print(dim(vdata))"
   ]
  },
  {
   "cell_type": "code",
   "execution_count": 17,
   "metadata": {},
   "outputs": [
    {
     "name": "stderr",
     "output_type": "stream",
     "text": [
      "Warning message:\n",
      "\"package 'randomForest' was built under R version 3.6.3\"\n",
      "randomForest 4.6-14\n",
      "\n",
      "Type rfNews() to see new features/changes/bug fixes.\n",
      "\n"
     ]
    }
   ],
   "source": [
    "library(randomForest)\n",
    "set.seed(222)\n",
    "\n",
    "rf <- randomForest(NSP~. , data = tdata)"
   ]
  },
  {
   "cell_type": "code",
   "execution_count": 19,
   "metadata": {},
   "outputs": [
    {
     "name": "stdout",
     "output_type": "stream",
     "text": [
      "\n",
      "Call:\n",
      " randomForest(formula = NSP ~ ., data = tdata) \n",
      "               Type of random forest: classification\n",
      "                     Number of trees: 500\n",
      "No. of variables tried at each split: 4\n",
      "\n",
      "        OOB estimate of  error rate: 5.62%\n",
      "Confusion matrix:\n",
      "     1   2   3 class.error\n",
      "1 1142  17   1  0.01551724\n",
      "2   47 164   2  0.23004695\n",
      "3    6  11 105  0.13934426\n"
     ]
    }
   ],
   "source": [
    "print(rf)"
   ]
  },
  {
   "cell_type": "code",
   "execution_count": 21,
   "metadata": {},
   "outputs": [
    {
     "data": {
      "text/html": [
       "<dl>\n",
       "\t<dt>$names</dt>\n",
       "\t\t<dd><style>\n",
       ".list-inline {list-style: none; margin:0; padding: 0}\n",
       ".list-inline>li {display: inline-block}\n",
       ".list-inline>li:not(:last-child)::after {content: \"\\00b7\"; padding: 0 .5ex}\n",
       "</style>\n",
       "<ol class=list-inline><li>'call'</li><li>'type'</li><li>'predicted'</li><li>'err.rate'</li><li>'confusion'</li><li>'votes'</li><li>'oob.times'</li><li>'classes'</li><li>'importance'</li><li>'importanceSD'</li><li>'localImportance'</li><li>'proximity'</li><li>'ntree'</li><li>'mtry'</li><li>'forest'</li><li>'y'</li><li>'test'</li><li>'inbag'</li><li>'terms'</li></ol>\n",
       "</dd>\n",
       "\t<dt>$class</dt>\n",
       "\t\t<dd><style>\n",
       ".list-inline {list-style: none; margin:0; padding: 0}\n",
       ".list-inline>li {display: inline-block}\n",
       ".list-inline>li:not(:last-child)::after {content: \"\\00b7\"; padding: 0 .5ex}\n",
       "</style>\n",
       "<ol class=list-inline><li>'randomForest.formula'</li><li>'randomForest'</li></ol>\n",
       "</dd>\n",
       "</dl>\n"
      ],
      "text/latex": [
       "\\begin{description}\n",
       "\\item[\\$names] \\begin{enumerate*}\n",
       "\\item 'call'\n",
       "\\item 'type'\n",
       "\\item 'predicted'\n",
       "\\item 'err.rate'\n",
       "\\item 'confusion'\n",
       "\\item 'votes'\n",
       "\\item 'oob.times'\n",
       "\\item 'classes'\n",
       "\\item 'importance'\n",
       "\\item 'importanceSD'\n",
       "\\item 'localImportance'\n",
       "\\item 'proximity'\n",
       "\\item 'ntree'\n",
       "\\item 'mtry'\n",
       "\\item 'forest'\n",
       "\\item 'y'\n",
       "\\item 'test'\n",
       "\\item 'inbag'\n",
       "\\item 'terms'\n",
       "\\end{enumerate*}\n",
       "\n",
       "\\item[\\$class] \\begin{enumerate*}\n",
       "\\item 'randomForest.formula'\n",
       "\\item 'randomForest'\n",
       "\\end{enumerate*}\n",
       "\n",
       "\\end{description}\n"
      ],
      "text/markdown": [
       "$names\n",
       ":   1. 'call'\n",
       "2. 'type'\n",
       "3. 'predicted'\n",
       "4. 'err.rate'\n",
       "5. 'confusion'\n",
       "6. 'votes'\n",
       "7. 'oob.times'\n",
       "8. 'classes'\n",
       "9. 'importance'\n",
       "10. 'importanceSD'\n",
       "11. 'localImportance'\n",
       "12. 'proximity'\n",
       "13. 'ntree'\n",
       "14. 'mtry'\n",
       "15. 'forest'\n",
       "16. 'y'\n",
       "17. 'test'\n",
       "18. 'inbag'\n",
       "19. 'terms'\n",
       "\n",
       "\n",
       "\n",
       "$class\n",
       ":   1. 'randomForest.formula'\n",
       "2. 'randomForest'\n",
       "\n",
       "\n",
       "\n",
       "\n",
       "\n"
      ],
      "text/plain": [
       "$names\n",
       " [1] \"call\"            \"type\"            \"predicted\"       \"err.rate\"       \n",
       " [5] \"confusion\"       \"votes\"           \"oob.times\"       \"classes\"        \n",
       " [9] \"importance\"      \"importanceSD\"    \"localImportance\" \"proximity\"      \n",
       "[13] \"ntree\"           \"mtry\"            \"forest\"          \"y\"              \n",
       "[17] \"test\"            \"inbag\"           \"terms\"          \n",
       "\n",
       "$class\n",
       "[1] \"randomForest.formula\" \"randomForest\"        \n"
      ]
     },
     "metadata": {},
     "output_type": "display_data"
    }
   ],
   "source": [
    "attributes(rf)"
   ]
  },
  {
   "cell_type": "code",
   "execution_count": 22,
   "metadata": {},
   "outputs": [
    {
     "name": "stderr",
     "output_type": "stream",
     "text": [
      "Warning message:\n",
      "\"package 'caret' was built under R version 3.6.3\"\n",
      "Loading required package: lattice\n",
      "\n",
      "Warning message:\n",
      "\"package 'lattice' was built under R version 3.6.3\"\n",
      "Loading required package: ggplot2\n",
      "\n",
      "Warning message:\n",
      "\"package 'ggplot2' was built under R version 3.6.2\"\n",
      "\n",
      "Attaching package: 'ggplot2'\n",
      "\n",
      "\n",
      "The following object is masked from 'package:randomForest':\n",
      "\n",
      "    margin\n",
      "\n",
      "\n"
     ]
    },
    {
     "data": {
      "text/plain": [
       "Confusion Matrix and Statistics\n",
       "\n",
       "          Reference\n",
       "Prediction    1    2    3\n",
       "         1 1160    2    0\n",
       "         2    0  211    0\n",
       "         3    0    0  122\n",
       "\n",
       "Overall Statistics\n",
       "                                          \n",
       "               Accuracy : 0.9987          \n",
       "                 95% CI : (0.9952, 0.9998)\n",
       "    No Information Rate : 0.7759          \n",
       "    P-Value [Acc > NIR] : < 2.2e-16       \n",
       "                                          \n",
       "                  Kappa : 0.9964          \n",
       "                                          \n",
       " Mcnemar's Test P-Value : NA              \n",
       "\n",
       "Statistics by Class:\n",
       "\n",
       "                     Class: 1 Class: 2 Class: 3\n",
       "Sensitivity            1.0000   0.9906  1.00000\n",
       "Specificity            0.9940   1.0000  1.00000\n",
       "Pos Pred Value         0.9983   1.0000  1.00000\n",
       "Neg Pred Value         1.0000   0.9984  1.00000\n",
       "Prevalence             0.7759   0.1425  0.08161\n",
       "Detection Rate         0.7759   0.1411  0.08161\n",
       "Detection Prevalence   0.7773   0.1411  0.08161\n",
       "Balanced Accuracy      0.9970   0.9953  1.00000"
      ]
     },
     "metadata": {},
     "output_type": "display_data"
    }
   ],
   "source": [
    "#Prediction and Confusion Matrix\n",
    "library(caret)\n",
    "p1 <- predict(rf , tdata)\n",
    "confusionMatrix(p1 , tdata$NSP)"
   ]
  },
  {
   "cell_type": "code",
   "execution_count": 25,
   "metadata": {},
   "outputs": [
    {
     "data": {
      "text/plain": [
       "Confusion Matrix and Statistics\n",
       "\n",
       "          Reference\n",
       "Prediction   1   2   3\n",
       "         1 482  17   4\n",
       "         2  11  61   4\n",
       "         3   2   4  46\n",
       "\n",
       "Overall Statistics\n",
       "                                          \n",
       "               Accuracy : 0.9334          \n",
       "                 95% CI : (0.9111, 0.9516)\n",
       "    No Information Rate : 0.7845          \n",
       "    P-Value [Acc > NIR] : <2e-16          \n",
       "                                          \n",
       "                  Kappa : 0.8109          \n",
       "                                          \n",
       " Mcnemar's Test P-Value : 0.5823          \n",
       "\n",
       "Statistics by Class:\n",
       "\n",
       "                     Class: 1 Class: 2 Class: 3\n",
       "Sensitivity            0.9737  0.74390  0.85185\n",
       "Specificity            0.8456  0.97268  0.98960\n",
       "Pos Pred Value         0.9583  0.80263  0.88462\n",
       "Neg Pred Value         0.8984  0.96216  0.98618\n",
       "Prevalence             0.7845  0.12995  0.08558\n",
       "Detection Rate         0.7639  0.09667  0.07290\n",
       "Detection Prevalence   0.7971  0.12044  0.08241\n",
       "Balanced Accuracy      0.9097  0.85829  0.92073"
      ]
     },
     "metadata": {},
     "output_type": "display_data"
    }
   ],
   "source": [
    "p2 <- predict(rf , vdata)\n",
    "confusionMatrix(p2 , vdata$NSP )"
   ]
  },
  {
   "cell_type": "code",
   "execution_count": 26,
   "metadata": {},
   "outputs": [
    {
     "data": {
      "image/png": "[encoded data removed]",
      "text/plain": [
       "Plot with title \"rf\""
      ]
     },
     "metadata": {
      "image/png": {
       "height": 420,
       "width": 420
      },
      "text/plain": {
       "height": 420,
       "width": 420
      }
     },
     "output_type": "display_data"
    }
   ],
   "source": [
    "#Error rate of Random Forest\n",
    "\n",
    "plot(rf)"
   ]
  },
  {
   "cell_type": "code",
   "execution_count": 28,
   "metadata": {},
   "outputs": [
    {
     "name": "stdout",
     "output_type": "stream",
     "text": [
      "mtry = 4  OOB error = 5.62% \n",
      "Searching left ...\n",
      "mtry = 8 \tOOB error = 5.28% \n",
      "0.05952381 0.05 \n",
      "mtry = 16 \tOOB error = 5.62% \n",
      "-0.06329114 0.05 \n",
      "Searching right ...\n",
      "mtry = 2 \tOOB error = 6.69% \n",
      "-0.2658228 0.05 \n"
     ]
    },
    {
     "data": {
      "image/png": "[encoded data removed]",
      "text/plain": [
       "plot without title"
      ]
     },
     "metadata": {
      "image/png": {
       "height": 420,
       "width": 420
      },
      "text/plain": {
       "height": 420,
       "width": 420
      }
     },
     "output_type": "display_data"
    }
   ],
   "source": [
    "#Tuning Random Forest\n",
    "t <- tuneRF(tdata[,-22] , tdata[,22] , stepFactor = 0.5,\n",
    "            plot = TRUE , ntreeTry = 300 , \n",
    "           trace = TRUE , \n",
    "           improve = 0.05)"
   ]
  },
  {
   "cell_type": "code",
   "execution_count": 30,
   "metadata": {},
   "outputs": [],
   "source": [
    "rf1 <- randomForest(NSP~. , data = tdata , ntree = 300, mtry = 8 , importance = TRUE , proximity = TRUE)"
   ]
  },
  {
   "cell_type": "code",
   "execution_count": 32,
   "metadata": {},
   "outputs": [
    {
     "data": {
      "text/plain": [
       "Confusion Matrix and Statistics\n",
       "\n",
       "          Reference\n",
       "Prediction   1   2   3\n",
       "         1 479  18   3\n",
       "         2  14  60   2\n",
       "         3   2   4  49\n",
       "\n",
       "Overall Statistics\n",
       "                                          \n",
       "               Accuracy : 0.9319          \n",
       "                 95% CI : (0.9093, 0.9502)\n",
       "    No Information Rate : 0.7845          \n",
       "    P-Value [Acc > NIR] : <2e-16          \n",
       "                                          \n",
       "                  Kappa : 0.8082          \n",
       "                                          \n",
       " Mcnemar's Test P-Value : 0.7134          \n",
       "\n",
       "Statistics by Class:\n",
       "\n",
       "                     Class: 1 Class: 2 Class: 3\n",
       "Sensitivity            0.9677  0.73171  0.90741\n",
       "Specificity            0.8456  0.97086  0.98960\n",
       "Pos Pred Value         0.9580  0.78947  0.89091\n",
       "Neg Pred Value         0.8779  0.96036  0.99132\n",
       "Prevalence             0.7845  0.12995  0.08558\n",
       "Detection Rate         0.7591  0.09509  0.07765\n",
       "Detection Prevalence   0.7924  0.12044  0.08716\n",
       "Balanced Accuracy      0.9066  0.85128  0.94850"
      ]
     },
     "metadata": {},
     "output_type": "display_data"
    }
   ],
   "source": [
    "pred1 <- predict(rf1 , vdata)\n",
    "confusionMatrix(pred1 , vdata$NSP)"
   ]
  },
  {
   "cell_type": "code",
   "execution_count": 34,
   "metadata": {},
   "outputs": [
    {
     "data": {
      "image/png": "[encoded data removed]",
      "text/plain": [
       "Plot with title \"Histogram of treesize(rf1)\""
      ]
     },
     "metadata": {
      "image/png": {
       "height": 420,
       "width": 420
      },
      "text/plain": {
       "height": 420,
       "width": 420
      }
     },
     "output_type": "display_data"
    }
   ],
   "source": [
    "hist(treesize(rf1) , col = 'blue')"
   ]
  },
  {
   "cell_type": "code",
   "execution_count": 55,
   "metadata": {},
   "outputs": [
    {
     "data": {
      "image/png": "[encoded data removed]",
      "text/plain": [
       "plot without title"
      ]
     },
     "metadata": {
      "image/png": {
       "height": 600,
       "width": 900
      },
      "text/plain": {
       "height": 600,
       "width": 900
      }
     },
     "output_type": "display_data"
    }
   ],
   "source": [
    "#Varaible Importance \n",
    "options(repr.plot.width = 15)\n",
    "varImpPlot(rf1 , sort = T , n.var = 10)"
   ]
  },
  {
   "cell_type": "code",
   "execution_count": 40,
   "metadata": {},
   "outputs": [
    {
     "data": {
      "text/html": [
       "<style>\n",
       ".list-inline {list-style: none; margin:0; padding: 0}\n",
       ".list-inline>li {display: inline-block}\n",
       ".list-inline>li:not(:last-child)::after {content: \"\\00b7\"; padding: 0 .5ex}\n",
       "</style>\n",
       "<ol class=list-inline><li>1237</li><li>1034</li><li>917</li><li>1521</li><li>379</li><li>4</li><li>714</li><li>2123</li><li>1224</li><li>2227</li><li>1479</li><li>1308</li><li>1212</li><li>1263</li><li>955</li><li>338</li><li>1234</li><li>1591</li><li>1269</li><li>948</li><li>308</li></ol>\n"
      ],
      "text/latex": [
       "\\begin{enumerate*}\n",
       "\\item 1237\n",
       "\\item 1034\n",
       "\\item 917\n",
       "\\item 1521\n",
       "\\item 379\n",
       "\\item 4\n",
       "\\item 714\n",
       "\\item 2123\n",
       "\\item 1224\n",
       "\\item 2227\n",
       "\\item 1479\n",
       "\\item 1308\n",
       "\\item 1212\n",
       "\\item 1263\n",
       "\\item 955\n",
       "\\item 338\n",
       "\\item 1234\n",
       "\\item 1591\n",
       "\\item 1269\n",
       "\\item 948\n",
       "\\item 308\n",
       "\\end{enumerate*}\n"
      ],
      "text/markdown": [
       "1. 1237\n",
       "2. 1034\n",
       "3. 917\n",
       "4. 1521\n",
       "5. 379\n",
       "6. 4\n",
       "7. 714\n",
       "8. 2123\n",
       "9. 1224\n",
       "10. 2227\n",
       "11. 1479\n",
       "12. 1308\n",
       "13. 1212\n",
       "14. 1263\n",
       "15. 955\n",
       "16. 338\n",
       "17. 1234\n",
       "18. 1591\n",
       "19. 1269\n",
       "20. 948\n",
       "21. 308\n",
       "\n",
       "\n"
      ],
      "text/plain": [
       " [1] 1237 1034  917 1521  379    4  714 2123 1224 2227 1479 1308 1212 1263  955\n",
       "[16]  338 1234 1591 1269  948  308"
      ]
     },
     "metadata": {},
     "output_type": "display_data"
    }
   ],
   "source": [
    "varUsed(rf1)"
   ]
  },
  {
   "cell_type": "code",
   "execution_count": 63,
   "metadata": {},
   "outputs": [
    {
     "data": {
      "image/png": "[encoded data removed]",
      "text/plain": [
       "Plot with title \"Partial Dependence on ASTV\""
      ]
     },
     "metadata": {
      "image/png": {
       "height": 480,
       "width": 600
      },
      "text/plain": {
       "height": 480,
       "width": 600
      }
     },
     "output_type": "display_data"
    }
   ],
   "source": [
    "#Partial Dependence Plot\n",
    "library(repr)\n",
    "options(repr.plot.width = 10 , repr.plot.height = 8)\n",
    "partialPlot(rf1 , tdata , ASTV , '2')"
   ]
  },
  {
   "cell_type": "code",
   "execution_count": 64,
   "metadata": {},
   "outputs": [
    {
     "data": {
      "image/png": "[encoded data removed]",
      "text/plain": [
       "plot without title"
      ]
     },
     "metadata": {
      "image/png": {
       "height": 480,
       "width": 600
      },
      "text/plain": {
       "height": 480,
       "width": 600
      }
     },
     "output_type": "display_data"
    }
   ],
   "source": [
    "#Multi Dimension Proximity Plot\n",
    "\n",
    "MDSplot(rf1 , tdata$NSP)"
   ]
  }
 ],
 "metadata": {
  "kernelspec": {
   "display_name": "R",
   "language": "R",
   "name": "ir"
  },
  "language_info": {
   "codemirror_mode": "r",
   "file_extension": ".r",
   "mimetype": "text/x-r-source",
   "name": "R",
   "pygments_lexer": "r",
   "version": "3.6.1"
  }
 },
 "nbformat": 4,
 "nbformat_minor": 4
}
